{
 "cells": [
  {
   "cell_type": "markdown",
   "metadata": {
    "pycharm": {
     "metadata": false
    }
   },
   "source": [
    "Perceptrons are...."
   ]
  },
  {
   "cell_type": "code",
   "execution_count": 99,
   "metadata": {
    "pycharm": {
     "is_executing": false,
     "metadata": false,
     "name": "#%%\n"
    }
   },
   "outputs": [
    {
     "data": {
      "image/png": "[encoded data removed]",
      "text/plain": [
       "<Figure size 432x288 with 1 Axes>"
      ]
     },
     "metadata": {
      "needs_background": "light"
     },
     "output_type": "display_data"
    }
   ],
   "source": [
    "import numpy as np\n",
    "import matplotlib.pyplot as plt\n",
    "\n",
    "# Training and test data\n",
    "inputs = np.array([[0, 0],\n",
    "                   [0, 1],\n",
    "                   [1, 0],\n",
    "                   [1, 1]])\n",
    "\n",
    "outputs = np.array([0, 0, 0, 1]) # AND\n",
    "\n",
    "for i in range(len(outputs)):\n",
    "    if outputs[i] == 1:\n",
    "        plt.scatter(inputs[i, 0], inputs[i, 1], marker=u'x', facecolors='green')\n",
    "    else:\n",
    "        plt.scatter(inputs[i, 0], inputs[i, 1], marker=u'o', facecolors='red')\n",
    "plt.title(\"Logical AND\")\n",
    "plt.show()"
   ]
  },
  {
   "cell_type": "markdown",
   "metadata": {
    "pycharm": {
     "metadata": false
    }
   },
   "source": [
    "The perceptron"
   ]
  },
  {
   "cell_type": "code",
   "execution_count": 100,
   "metadata": {
    "pycharm": {
     "is_executing": false,
     "metadata": false,
     "name": "#%%\n"
    }
   },
   "outputs": [
    {
     "name": "stdout",
     "output_type": "stream",
     "text": [
      "Epoch: 1 Error: 0\n",
      "Epoch: 2 Error: 0\n",
      "Epoch: 3 Error: 0\n",
      "Epoch: 4 Error: 0\n",
      "Epoch: 5 Error: 0\n",
      "Epoch: 6 Error: 0\n",
      "Epoch: 7 Error: 0\n",
      "Epoch: 8 Error: 0\n",
      "Epoch: 9 Error: 0\n",
      "Epoch: 10 Error: 0\n",
      "Epoch: 11 Error: 0\n",
      "Epoch: 12 Error: 0\n",
      "Epoch: 13 Error: 0\n",
      "Epoch: 14 Error: 0\n",
      "Epoch: 15 Error: 0\n"
     ]
    }
   ],
   "source": [
    "num_epochs = 15\n",
    "learning_rate = 0.1\n",
    "\n",
    "def train_perceptron(inputs, outputs, num_epochs, learning_rate):\n",
    "    \n",
    "    bias = 1\n",
    "    bias_weight = np.random.uniform(-0.5, 0.5)\n",
    "    input_weight1 = np.random.uniform(-0.5, 0.5)\n",
    "    input_weight2 = np.random.uniform(-0.5, 0.5)\n",
    "    \n",
    "    for epoch in range(num_epochs):\n",
    "        \n",
    "        total_error = 0\n",
    "        for i in range(len(inputs)):\n",
    "            \n",
    "            # Forward step - Calculate output\n",
    "            sum = (inputs[i][0] * input_weight1) + \\\n",
    "                  (inputs[i][1] * input_weight2) + \\\n",
    "                  (bias * bias_weight)\n",
    "            \n",
    "            if sum > 0: # Activation (step) function\n",
    "                activation = 1\n",
    "            else:\n",
    "                activation = 0\n",
    "    \n",
    "            # Calculate error\n",
    "            error = outputs[i] - activation\n",
    "            total_error += np.absolute(error) \n",
    "            \n",
    "            # Update weights\n",
    "            input_weight1 += error * inputs[i][0] * learning_rate\n",
    "            input_weight2 += error * inputs[i][1] * learning_rate\n",
    "            bias_weight += error * bias * learning_rate\n",
    "        \n",
    "        print(\"Epoch: \" + str(epoch + 1) + \" Error: \" + str(total_error))\n",
    "    return input_weight1, input_weight2, bias_weight\n",
    "\n",
    "input_weight1, input_weight2, bias_weight = train_perceptron(inputs, outputs, num_epochs, learning_rate)"
   ]
  },
  {
   "cell_type": "markdown",
   "metadata": {
    "pycharm": {
     "metadata": false
    }
   },
   "source": [
    "## Perceptron - Linear Decision Boundary\n",
    "\n",
    "Equation for a straight line:\n",
    "y = ax+ c\n",
    "\n",
    "a and c are coefficients just like the learned weights and bias in the perceptron.\n",
    "So with a bit of rearranging:\n",
    "\n",
    "y = ((input1 x weight1) + (input2 x weight2)) + bias weight\n",
    "\n",
    "Becomes:\n",
    "\n",
    "input2 = ((-weight1/weight2) * input1) + (-bias weight/weight2)\n",
    "\n",
    "weights 1 and 2 = slope\n",
    "\n",
    "bias = intercept\n",
    "\n",
    "step function = which side of the line!"
   ]
  },
  {
   "cell_type": "code",
   "execution_count": 101,
   "metadata": {
    "pycharm": {
     "is_executing": false,
     "metadata": false,
     "name": "#%%\n"
    }
   },
   "outputs": [
    {
     "name": "stdout",
     "output_type": "stream",
     "text": [
      "0.041716856771935595\n",
      "0.37745196011221505\n",
      "-0.4029709362601819\n"
     ]
    },
    {
     "data": {
      "image/png": "[encoded data removed]",
      "text/plain": [
       "<Figure size 432x288 with 1 Axes>"
      ]
     },
     "metadata": {
      "needs_background": "light"
     },
     "output_type": "display_data"
    }
   ],
   "source": [
    "print(input_weight1)\n",
    "print(input_weight2)\n",
    "print(bias_weight)\n",
    "x = np.linspace(0, 1)\n",
    "y = ((-input_weight1/input_weight2) * x) + (-bias_weight/input_weight2)\n",
    "\n",
    "for i in range(len(outputs)):\n",
    "    if outputs[i] == 1:\n",
    "        plt.scatter(inputs[i, 0], inputs[i, 1], marker=u'x', facecolors='green')\n",
    "    else:\n",
    "        plt.scatter(inputs[i, 0], inputs[i, 1], marker=u'o', facecolors='red')\n",
    "plt.plot(x,y)\n",
    "plt.title(\"Logical AND Decision Boundary\")\n",
    "plt.show()"
   ]
  },
  {
   "cell_type": "markdown",
   "metadata": {
    "pycharm": {
     "metadata": false
    }
   },
   "source": [
    "Now XOR"
   ]
  },
  {
   "cell_type": "code",
   "execution_count": 102,
   "metadata": {
    "pycharm": {
     "is_executing": false,
     "metadata": false,
     "name": "#%%\n"
    }
   },
   "outputs": [
    {
     "name": "stdout",
     "output_type": "stream",
     "text": [
      "Epoch: 1 Error: 2\n",
      "Epoch: 2 Error: 2\n",
      "Epoch: 3 Error: 2\n",
      "Epoch: 4 Error: 3\n",
      "Epoch: 5 Error: 4\n",
      "Epoch: 6 Error: 4\n",
      "Epoch: 7 Error: 4\n",
      "Epoch: 8 Error: 4\n",
      "Epoch: 9 Error: 4\n",
      "Epoch: 10 Error: 4\n",
      "Epoch: 11 Error: 4\n",
      "Epoch: 12 Error: 4\n",
      "Epoch: 13 Error: 4\n",
      "Epoch: 14 Error: 4\n",
      "Epoch: 15 Error: 4\n"
     ]
    },
    {
     "data": {
      "image/png": "[encoded data removed]",
      "text/plain": [
       "<Figure size 432x288 with 1 Axes>"
      ]
     },
     "metadata": {
      "needs_background": "light"
     },
     "output_type": "display_data"
    }
   ],
   "source": [
    "outputs = np.array([0, 1, 1, 0]) # XOR\n",
    "\n",
    "input_weight1, input_weight2, bias_weight = train_perceptron(inputs, outputs, num_epochs, learning_rate)\n",
    "\n",
    "x = np.linspace(0, 1)\n",
    "y = ((-input_weight1/input_weight2) * x) + (-bias_weight/input_weight2)\n",
    "\n",
    "for i in range(len(outputs)):\n",
    "    if outputs[i] == 1:\n",
    "        plt.scatter(inputs[i, 0], inputs[i, 1], marker=u'x', facecolors='green')\n",
    "    else:\n",
    "        plt.scatter(inputs[i, 0], inputs[i, 1], marker=u'o', facecolors='red')\n",
    "plt.plot(x,y)\n",
    "plt.title(\"Logical AND Decision Boundary\")\n",
    "plt.show()\n"
   ]
  },
  {
   "cell_type": "code",
   "execution_count": null,
   "metadata": {},
   "outputs": [],
   "source": []
  }
 ],
 "metadata": {
  "kernelspec": {
   "display_name": "Python 3",
   "language": "python",
   "name": "python3"
  },
  "language_info": {
   "codemirror_mode": {
    "name": "ipython",
    "version": 3
   },
   "file_extension": ".py",
   "mimetype": "text/x-python",
   "name": "python",
   "nbconvert_exporter": "python",
   "pygments_lexer": "ipython3",
   "version": "3.7.3"
  },
  "stem_cell": {
   "cell_type": "raw",
   "metadata": {
    "pycharm": {
     "metadata": false
    }
   },
   "source": ""
  }
 },
 "nbformat": 4,
 "nbformat_minor": 1
}
