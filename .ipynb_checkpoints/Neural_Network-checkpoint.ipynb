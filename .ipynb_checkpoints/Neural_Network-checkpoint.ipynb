{
 "cells": [
  {
   "cell_type": "markdown",
   "metadata": {
    "pycharm": {
     "metadata": false
    }
   },
   "source": [
    "# Artificial Neural Networks\n",
    "\n",
    "As we have seen, Perceptrons are only capable of solving *linearly separable* problems.\n",
    "To overcome this limitation, first proposed by Rumelhart. Mclelland & Hinton (1980's),\n",
    "we can connect Perceptrons together into a network.\n",
    "Each one becomes a *Node* in the network and they are connected together into *Layers*.\n",
    "In standard Artificial Neural Network (ANN) architecture there is one *input*, one *output* and one or more *hidden* layers.\n",
    "Though *input* layer is a bit misleading, it doesn't actually do any computation, it is just the inputs to the network.\n",
    "\n",
    "![ANN](resources/ANN.png \"ANN Image\")\n",
    "\n",
    "So outputs of hidden layers become the inputs to subsequent hidden layers, or the output layer if it is the last hidden layer.\n",
    "Hidden nodes tend to learn different aspects of the problem space,\n",
    "building more complex decision boundaries and are therefore able to solve more complex problems..\n",
    "To give you an intuition from the XOR problem we just saw, take a look at the following diagram.\n",
    "The hidden nodes both learn different logical functions (AND and OR), if you combine these you have solved XOR!\n",
    "\n",
    "![ANN-XOR](resources/ANN-XOR.png \"ANN-XOR Image\")\n",
    "\n",
    "**Note:** The number of nodes in the input layer *must* equal the number of inputs/features in the data.\n",
    "The number of output nodes *must* equal the number of labels/classes in the data.\n",
    "The number of hidden layers and nodes in the layers is arbitrary,\n",
    "and selecting this architecture is part of building an ANN."
   ]
  },
  {
   "cell_type": "code",
   "execution_count": 1,
   "metadata": {
    "pycharm": {
     "is_executing": false,
     "metadata": false,
     "name": "#%%\n"
    }
   },
   "outputs": [
    {
     "name": "stdout",
     "output_type": "stream",
     "text": [
      "hello\n"
     ]
    }
   ],
   "source": [
    "print(\"hello\")\n"
   ]
  }
 ],
 "metadata": {
  "kernelspec": {
   "display_name": "Python 3",
   "language": "python",
   "name": "python3"
  },
  "language_info": {
   "codemirror_mode": {
    "name": "ipython",
    "version": 3
   },
   "file_extension": ".py",
   "mimetype": "text/x-python",
   "name": "python",
   "nbconvert_exporter": "python",
   "pygments_lexer": "ipython3",
   "version": "3.7.3"
  },
  "stem_cell": {
   "cell_type": "raw",
   "metadata": {
    "pycharm": {
     "metadata": false
    }
   },
   "source": ""
  }
 },
 "nbformat": 4,
 "nbformat_minor": 1
}
