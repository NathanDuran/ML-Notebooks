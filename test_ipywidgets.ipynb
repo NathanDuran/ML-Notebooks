{
 "cells": [
  {
   "cell_type": "code",
   "execution_count": 42,
   "metadata": {
    "pycharm": {
     "is_executing": false
    }
   },
   "outputs": [
    {
     "data": {
      "application/vnd.jupyter.widget-view+json": {
       "model_id": "33a56ac1de5c4541a6c567479ebd7a4d",
       "version_major": 2,
       "version_minor": 0
      },
      "text/plain": [
       "interactive(children=(Dropdown(description='function', options=('and', 'or', 'xor'), value='and'), FloatSlider…"
      ]
     },
     "metadata": {},
     "output_type": "display_data"
    }
   ],
   "source": [
    "%matplotlib inline\n",
    "from ipywidgets import interactive\n",
    "import matplotlib.pyplot as plt\n",
    "import numpy as np\n",
    "\n",
    "def point_colours(input_1, input_2, function):\n",
    "    colours = []\n",
    "    for x1, x2 in zip(input_1, input_2):\n",
    "        if function == 'and':\n",
    "            colours.append('green' if (x1 and x2) else 'red')\n",
    "        elif function == 'or':\n",
    "            colours.append('green' if (x1 or x2) else 'red')\n",
    "        elif function == 'xor':\n",
    "            colours.append('green' if (x1 ^ x2) else 'red')\n",
    "    return colours\n",
    "\n",
    "def f(function, m, b=0.5):\n",
    "    input_1 = [0, 0, 1, 1]\n",
    "    input_2 = [0, 1, 0, 1]\n",
    "    colours = point_colours(input_1, input_2, function)\n",
    "    plt.figure(2, figsize=(8, 6), dpi=80, facecolor='w', edgecolor='k')\n",
    "    x = np.linspace(-10, 10, num=1000)\n",
    "    plt.plot(x, m * x + b)\n",
    "    plt.scatter(input_1, input_2, s=20, c=colours)\n",
    "    plt.xlim(-0.5, 1.5)\n",
    "    plt.ylim(-0.5, 1.5)\n",
    "    plt.show()\n",
    "\n",
    "\n",
    "interactive_plot = interactive(f, function=['and', 'or', 'xor'], m=(-2.0, 2.0), b=(-3, 3, 0.1))\n",
    "output = interactive_plot.children[-1]\n",
    "output.layout.min_height = '350px'\n",
    "\n",
    "interactive_plot\n",
    "\n"
   ]
  },
  {
   "cell_type": "code",
   "execution_count": null,
   "metadata": {},
   "outputs": [],
   "source": []
  }
 ],
 "metadata": {
  "kernelspec": {
   "display_name": "Python 3",
   "language": "python",
   "name": "python3"
  },
  "language_info": {
   "codemirror_mode": {
    "name": "ipython",
    "version": 3
   },
   "file_extension": ".py",
   "mimetype": "text/x-python",
   "name": "python",
   "nbconvert_exporter": "python",
   "pygments_lexer": "ipython3",
   "version": "3.7.3"
  },
  "pycharm": {
   "stem_cell": {
    "cell_type": "raw",
    "metadata": {
     "collapsed": false
    },
    "source": []
   }
  }
 },
 "nbformat": 4,
 "nbformat_minor": 1
}
