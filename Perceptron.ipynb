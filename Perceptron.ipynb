{
  "cells": [
    {
      "cell_type": "markdown",
      "metadata": {
        "pycharm": {
          "metadata": false
        }
      },
      "source": [
        "# Perceptrons - The basis of Artificial Neural Networks\n",
        "\n",
        "Perceptrons, invented by Frank Rosenblatt in the late 1950\u0027s,\n",
        "are a form of supervised machine learning algorithm inspired by neuron cells.\n",
        "In neurons, signals come in along the dendrites and out along the axon. \n",
        "A synapse is the connection between the axon of one cell and the dendrites of another.\n",
        "Crudely, input signals are \u0027summed\u0027 and if they reach a certain threshold the neuron \u0027fires\u0027\n",
        "and sends a signal down the synapse to the connected cells.\n",
        "\n",
        "![Perceptron](resources/Perceptron.png \"Perceptron Image\")\n",
        "\n",
        "Perceptrons are an algorithmic approximation of this process and can learn to solve simple classification problems.\n",
        "Input values are multiplied by a learnable parameter called a *weight*.\n",
        "If the sum of the inputs X weights is over a certain threshold the Perceptron \u0027fires\u0027 and generates an output.\n",
        "We use the *error* in the output to change the value of the *weights* by a small amount - the *learning rate*.\n",
        "The process is repeated until the error is 0, or as small as we can get it.\n",
        "\n",
        "**Note:** The threshold which determines if the Perceptron produces an output is determined by its *activation function*.\n",
        "For Perceptrons this is usually a step function which outputs a 1 or 0 i.e. \u0027fires\u0027 or not.\n",
        "\n",
        "### Perceptron - Algorithm\n",
        "```\n",
        "1. Set weights to random values in range [-0.5, 0.5]\n",
        "\n",
        "2. Set learning rate to a small value, usually less than 0.5\n",
        "\n",
        "3. For each training example in the dataset i.e one \u0027epoch\u0027\n",
        "\n",
        "    A. Calculate output (activation)\n",
        "    \n",
        "    Sum inputs multiplied by weights\n",
        "    \n",
        "    If sum is greater than 0, output \u003d 1, otherwise output \u003d 0\n",
        "    \n",
        "    B. Calculate error\n",
        "    \n",
        "    error \u003d expected/desired output - activation\n",
        "\n",
        "    C. Update each of the weights values\n",
        "    \n",
        "    change in weight \u003d error X input X learning rate\n",
        "    \n",
        "4. Repeat from step 3 until error is 0 (or as close as possible), or for the number of training epochs.\n",
        "```\n",
        "Or if you prefer maths...\n",
        "\n",
        "$y \u003d 1\\ if\\ \\sum\\limits_{i\u003d0}^{n} w_i \\times x_i \\geq\\ 0 \\\\else \\\\ y \u003d 0\\ if\\ \\sum\\limits_{i\u003d0}^{n} w_i \\times x_i \\lt\\ 0 \\\\where \\ x_0 \u003d 1 \\ and\\ w_0 \u003d -\\theta $\n",
        "\n",
        "**Note:** The last line here is for the bias, where the input is always 1.\n",
        "Weights are usually denoted by $\\theta$ (theta) and the bias weight tends towards the negative.\n",
        "\n",
        "### Perceptrons - Logical Operators\n",
        "\n",
        "Logical operators, also know as logical functions or boolean functions,\n",
        "originate from propositional logic and form the basis logic gates for computation.\n",
        "\n",
        "There are only two possible values, True and False, represented as 1 and 0.\n",
        "The functions can be represented using truth tables, with two inputs and one output.\n",
        "Below is the truth table for the \u0027AND\u0027 function:\n",
        "\n",
        "| Input 1| Input 2| AND |\n",
        "|:------:|:------:|:---:|\n",
        "| 0      | 0      | 0   |\n",
        "| 0      | 1      | 0   |\n",
        "| 1      | 0      | 0   |\n",
        "| 1      | 1      | 1   |\n",
        "\n",
        "We are going to use this data to show how Perceptrons can learn to represent these logical functions,\n",
        "though you could also think about it as a prediction/classification problem\n",
        "i.e. for a given set of inputs what is the correct output.\n",
        "This table is therefore the Perceptrons *training* data, with each row representing an input example.\n",
        "Each training example has two inputs (*features*) and one output (*label*).\n",
        "\n",
        "You can also plot these functions on a graph, which will be handy later, so first lets define our data and make a plot.\n",
        "\n",
        "**Note:** Input data is often denoted by X and labels with Y,\n",
        "so here we are going to use train_x and train_y for our variable names.\n"
      ]
    },
    {
      "cell_type": "code",
      "execution_count": 1,
      "metadata": {
        "pycharm": {
          "is_executing": false,
          "metadata": false,
          "name": "#%%\n"
        }
      },
      "outputs": [
        {
          "data": {
            "text/plain": [
              "\u003cFigure size 640x480 with 1 Axes\u003e"
            ]
          },
          "metadata": {},
          "output_type": "display_data"
        }
      ],
      "source": [
        "import numpy as np\n",
        "import matplotlib.pyplot as plt\n",
        "\n",
        "# Training data\n",
        "train_x \u003d np.array([[0, 0],\n",
        "                   [0, 1],\n",
        "                   [1, 0],\n",
        "                   [1, 1]])\n",
        "\n",
        "train_y \u003d np.array([0, 0, 0, 1]) # AND\n",
        "\n",
        "# Plot each point on a graph, \u0027o\u0027 for true and \u0027x\u0027 for false\n",
        "for i in range(len(train_y)):\n",
        "    if train_y[i] \u003d\u003d 1:\n",
        "        plt.scatter(train_x[i, 0], train_x[i, 1], marker\u003du\u0027o\u0027, facecolors\u003d\u0027green\u0027)\n",
        "    else:\n",
        "        plt.scatter(train_x[i, 0], train_x[i, 1], marker\u003du\u0027x\u0027, facecolors\u003d\u0027red\u0027)\n",
        "plt.title(\"Logical AND\")\n",
        "plt.show()"
      ]
    },
    {
      "cell_type": "markdown",
      "metadata": {
        "pycharm": {
          "metadata": false
        }
      },
      "source": [
        "### Perceptron - Implementation\n",
        "\n",
        "Now lets write a function to build and train a Perceptron for the AND function.\n",
        "This is just an implementation of the algorithm above.\n",
        "As it trains you should see output for the current training epoch and total error for that epoch.\n",
        "The error should quickly reach 0, if it doesn\u0027t try increasing the number of epochs or changing the learning rate.\n",
        "\n",
        "The num_epochs variable determines how many times we will show the Perceptron *all* of the training data.\n",
        "\n",
        "The learning_rate variable determines how large a change we will make to the weights each time they are updated.\n",
        "The learning rate is often denoted as $\\alpha$ (alpha)."
      ]
    },
    {
      "cell_type": "code",
      "execution_count": 5,
      "metadata": {
        "pycharm": {
          "is_executing": false,
          "metadata": false,
          "name": "#%%\n"
        }
      },
      "outputs": [
        {
          "name": "stdout",
          "output_type": "stream",
          "text": [
            "Epoch: 1 Error: 2\n",
            "Epoch: 2 Error: 3\n",
            "Epoch: 3 Error: 2\n",
            "Epoch: 4 Error: 3\n",
            "Epoch: 5 Error: 2\n",
            "Epoch: 6 Error: 1\n",
            "Epoch: 7 Error: 0\n",
            "Epoch: 8 Error: 0\n",
            "Epoch: 9 Error: 0\n",
            "Epoch: 10 Error: 0\n"
          ]
        }
      ],
      "source": [
        "num_epochs \u003d 10\n",
        "learning_rate \u003d 0.5\n",
        "\n",
        "def train_perceptron(inputs, desired_outputs, training_epochs, alpha):\n",
        "    \n",
        "    # Set the weights to small random values in the range -0.5 to 0.5\n",
        "    bias \u003d 1\n",
        "    bias_w \u003d np.random.uniform(-0.5, 0.5)\n",
        "    w1 \u003d np.random.uniform(-0.5, 0.5)\n",
        "    w2 \u003d np.random.uniform(-0.5, 0.5)\n",
        "    \n",
        "    # Each epoch will loop over the training data once\n",
        "    for epoch in range(training_epochs):\n",
        "        \n",
        "        total_error \u003d 0\n",
        "        # Loop over all of the input examples\n",
        "        for i in range(len(inputs)):\n",
        "            \n",
        "            # Calculate output\n",
        "            weight_sum \u003d (inputs[i][0] * w1) + (inputs[i][1] * w2) + (bias * bias_w)\n",
        "            \n",
        "            if weight_sum \u003e 0: # Activation (step) function\n",
        "                activation \u003d 1\n",
        "            else:\n",
        "                activation \u003d 0\n",
        "    \n",
        "            # Calculate error (desired output - actual output)\n",
        "            error \u003d desired_outputs[i] - activation\n",
        "            total_error +\u003d np.absolute(error) # Also keep track of total error for this epoch\n",
        "            \n",
        "            # Update weights (error * input * learning rate)\n",
        "            w1 +\u003d error * inputs[i][0] * alpha\n",
        "            w2 +\u003d error * inputs[i][1] * alpha\n",
        "            bias_w +\u003d error * bias * alpha\n",
        "        \n",
        "        print(\"Epoch: \" + str(epoch + 1) + \" Error: \" + str(total_error))\n",
        "    return w1, w2, bias_w\n",
        "\n",
        "# Call the function to train the Perceptron and return the trained weights\n",
        "input_w1, input_w2, bias_w \u003d train_perceptron(train_x, train_y, num_epochs, learning_rate)"
      ]
    },
    {
      "cell_type": "markdown",
      "metadata": {
        "pycharm": {
          "metadata": false
        }
      },
      "source": [
        "### Perceptrons - Linear Decision Boundary\n",
        "\n",
        "To give you an intuition around what the Perceptron is doing, consider the equation for a straight line:\n",
        "\n",
        "y \u003d ax + c\n",
        "\n",
        "a and c are coefficients just like the learned weights and bias in the Perceptron.\n",
        "So with a bit of rearranging:\n",
        "\n",
        "y \u003d ((input1 x weight1) + (input2 x weight2)) + bias weight\n",
        "\n",
        "Becomes:\n",
        "\n",
        "input2 \u003d ((-weight1/weight2) * input1) + (-bias weight/weight2)\n",
        "\n",
        "weights 1 and 2 \u003d slope\n",
        "\n",
        "bias \u003d intercept\n",
        "\n",
        "step function \u003d which side of the line!\n",
        "\n",
        "So, the Perceptron is essentially learning a function for a straight line which is called the decision boundary.\n",
        "In this case, which \u0027class\u0027 the set of inputs belongs to i.e. True or False.\n",
        "\n",
        "We can add this to our plot from before to visualise it."
      ]
    },
    {
      "cell_type": "code",
      "execution_count": 6,
      "metadata": {
        "pycharm": {
          "is_executing": false,
          "metadata": false,
          "name": "#%%\n"
        }
      },
      "outputs": [
        {
          "name": "stdout",
          "output_type": "stream",
          "text": [
            "Input weight 1 \u003d 1.0697354463379969\n",
            "Input weight 2 \u003d 0.656721396612785\n",
            "Bias weight \u003d -1.3034044806398173\n"
          ]
        },
        {
          "data": {
            "image/png": "[encoded data removed]",
            "text/plain": [
              "\u003cFigure size 432x288 with 1 Axes\u003e"
            ]
          },
          "metadata": {
            "needs_background": "light"
          },
          "output_type": "display_data"
        }
      ],
      "source": [
        "# Print the learned weight values\n",
        "print(\"Input weight 1 \u003d \" + str(input_w1))\n",
        "print(\"Input weight 2 \u003d \" + str(input_w2))\n",
        "print(\"Bias weight \u003d \" + str(bias_w))\n",
        "\n",
        "x \u003d np.linspace(0, 1)\n",
        "y \u003d ((-input_w1/input_w2) * x) + (-bias_w/input_w2)\n",
        "\n",
        "for i in range(len(train_y)):\n",
        "    if train_y[i] \u003d\u003d 1:\n",
        "        plt.scatter(train_x[i, 0], train_x[i, 1], marker\u003du\u0027o\u0027, facecolors\u003d\u0027green\u0027)\n",
        "    else:\n",
        "        plt.scatter(train_x[i, 0], train_x[i, 1], marker\u003du\u0027x\u0027, facecolors\u003d\u0027red\u0027)\n",
        "plt.plot(x,y)\n",
        "plt.title(\"Logical AND Decision Boundary\")\n",
        "plt.show()"
      ]
    },
    {
      "cell_type": "markdown",
      "metadata": {
        "pycharm": {
          "metadata": false
        }
      },
      "source": [
        "### Perceptrons - OR and XOR\n",
        "\n",
        "Now lets try the Perceptron for the OR and XOR functions. The truth table for these is below.\n",
        "\n",
        "| Input 1| Input 2| OR  | XOR |\n",
        "|:------:|:------:|:---:|:---:|\n",
        "| 0      | 0      | 0   | 0   |\n",
        "| 0      | 1      | 1   | 1   |\n",
        "| 1      | 0      | 1   | 1   |\n",
        "| 1      | 1      | 1   | 0   |\n",
        "\n",
        "Remember the inputs are the same so you should only need to specify the new labels/desired outputs.\n",
        "You can also change the number of training epochs and learning rate if you wish,\n",
        "but stick with the values that worked for AND first.\n",
        "\n",
        "Just call the train_perceptron() function as before with the new values.\n",
        "You can also copy the code above to display the function and its decision boundary after training"
      ]
    },
    {
      "cell_type": "code",
      "execution_count": 120,
      "metadata": {
        "pycharm": {
          "is_executing": false,
          "metadata": false,
          "name": "#%%\n"
        }
      },
      "outputs": [
        {
          "name": "stdout",
          "output_type": "stream",
          "text": [
            "Epoch: 1 Error: 1\n",
            "Epoch: 2 Error: 1\n",
            "Epoch: 3 Error: 0\n",
            "Epoch: 4 Error: 0\n",
            "Epoch: 5 Error: 0\n",
            "Epoch: 6 Error: 0\n",
            "Epoch: 7 Error: 0\n",
            "Epoch: 8 Error: 0\n",
            "Epoch: 9 Error: 0\n",
            "Epoch: 10 Error: 0\n"
          ]
        },
        {
          "data": {
            "image/png": "[encoded data removed]",
            "text/plain": [
              "\u003cFigure size 432x288 with 1 Axes\u003e"
            ]
          },
          "metadata": {
            "needs_background": "light"
          },
          "output_type": "display_data"
        }
      ],
      "source": "\n##YOUR CODE HERE##\ntrain_y \u003d np.array([0, 1, 1, 0]) # XOR\ninput_w1, input_w2, bias_w \u003d train_perceptron(train_x, train_y, num_epochs, learning_rate)\n\nx \u003d np.linspace(0, 1)\ny \u003d ((-input_w1/input_w2) * x) + (-bias_w/input_w2)\n\nfor i in range(len(train_y)):\n    if train_y[i] \u003d\u003d 1:\n        plt.scatter(train_x[i, 0], train_x[i, 1], marker\u003du\u0027o\u0027, facecolors\u003d\u0027green\u0027)\n    else:\n        plt.scatter(train_x[i, 0], train_x[i, 1], marker\u003du\u0027x\u0027, facecolors\u003d\u0027red\u0027)\nplt.plot(x,y)\nplt.title(\"Logical AND Decision Boundary\")\nplt.show()\n"
    }
  ],
  "metadata": {
    "kernelspec": {
      "display_name": "Python 3",
      "language": "python",
      "name": "python3"
    },
    "language_info": {
      "codemirror_mode": {
        "name": "ipython",
        "version": 3
      },
      "file_extension": ".py",
      "mimetype": "text/x-python",
      "name": "python",
      "nbconvert_exporter": "python",
      "pygments_lexer": "ipython3",
      "version": "3.7.3"
    },
    "stem_cell": {
      "cell_type": "raw",
      "metadata": {
        "pycharm": {
          "metadata": false
        }
      },
      "source": ""
    }
  },
  "nbformat": 4,
  "nbformat_minor": 1
}