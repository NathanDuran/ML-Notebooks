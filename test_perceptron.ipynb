{
 "cells": [
  {
   "cell_type": "code",
   "execution_count": 3,
   "metadata": {
    "pycharm": {
     "is_executing": false,
     "name": "#%%\n"
    }
   },
   "outputs": [],
   "source": [
    "%matplotlib inline\n",
    "from ipywidgets import interactive, interact, widgets, HBox, VBox\n",
    "from IPython.display import display\n",
    "import matplotlib.pyplot as plt\n",
    "import numpy as np\n",
    "\n",
    "\n",
    "logic_func_toggle = widgets.ToggleButtons(options=['AND', 'OR', 'XOR'], value='AND', description='Function:')\n",
    "\n",
    "weight1_sldr = widgets.FloatSlider(value=0.5, min=-3.0, max=3.0, step=0.1, description='Weight 1:',\n",
    "                        continuous_update=False, orientation='horizontal', readout=True, readout_format='.1f')\n",
    "weight2_sldr = widgets.FloatSlider(value=0.5, min=-3.0, max=3.0, step=0.1, description='Weight 2:',\n",
    "                        continuous_update=False, orientation='horizontal', readout=True, readout_format='.1f')\n",
    "bias_sldr = widgets.FloatSlider(value=0.5, min=-3.0, max=3.0, step=0.1, description='Bias:',\n",
    "                        continuous_update=False, orientation='horizontal', readout=True, readout_format='.1f')\n",
    "\n",
    "\n",
    "def point_colours(input_1, input_2, function):\n",
    "    colours = []\n",
    "    for x1, x2 in zip(input_1, input_2):\n",
    "        if function == 'AND':\n",
    "            colours.append('green' if (x1 and x2) else 'red')\n",
    "        elif function == 'OR':\n",
    "            colours.append('green' if (x1 or x2) else 'red')\n",
    "        elif function == 'XOR':\n",
    "            colours.append('green' if (x1 ^ x2) else 'red')\n",
    "    return colours\n",
    "\n",
    "def plot_function(function, m, b=0.5):\n",
    "    input_1 = [0, 0, 1, 1]\n",
    "    input_2 = [0, 1, 0, 1]\n",
    "    colours = point_colours(input_1, input_2, function)\n",
    "    plt.figure(2, figsize=(8, 6), dpi=80, facecolor='w', edgecolor='k')\n",
    "    x = np.linspace(-10, 10, num=1000)\n",
    "    plt.plot(x, m * x + b)\n",
    "    plt.scatter(input_1, input_2, s=20, c=colours)\n",
    "    plt.xlim(-0.5, 1.5)\n",
    "    plt.ylim(-0.5, 1.5)\n",
    "    plt.show()\n",
    "\n",
    "interactive_plot = widgets.interactive_output(plot_function, {'function': logic_func_toggle, 'm':weight1_sldr, 'b':bias_sldr})\n",
    "controls = VBox([weight1_sldr, weight2_sldr, bias_sldr])\n",
    "plot = VBox([logic_func_toggle, interactive_plot])\n",
    "widget = HBox([controls, plot])\n",
    "\n",
    "display(widget)"
   ]
  },
  {
   "cell_type": "code",
   "execution_count": null,
   "metadata": {},
   "outputs": [],
   "source": []
  }
 ],
 "metadata": {
  "kernelspec": {
   "display_name": "Python 3",
   "language": "python",
   "name": "python3"
  },
  "language_info": {
   "codemirror_mode": {
    "name": "ipython",
    "version": 3
   },
   "file_extension": ".py",
   "mimetype": "text/x-python",
   "name": "python",
   "nbconvert_exporter": "python",
   "pygments_lexer": "ipython3",
   "version": "3.7.3"
  },
  "pycharm": {
   "stem_cell": {
    "cell_type": "raw",
    "metadata": {
     "collapsed": false
    },
    "source": []
   }
  }
 },
 "nbformat": 4,
 "nbformat_minor": 1
}